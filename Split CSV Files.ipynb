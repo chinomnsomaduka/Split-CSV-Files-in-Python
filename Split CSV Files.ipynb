{
 "cells": [
  {
   "cell_type": "markdown",
   "metadata": {},
   "source": [
    "# Splitting CSV Files in Python\n",
    "\n",
    "## Install Module\n",
    "Install [pandas](https://pandas.pydata.org/)."
   ]
  },
  {
   "cell_type": "code",
   "execution_count": 1,
   "metadata": {},
   "outputs": [
    {
     "name": "stdout",
     "output_type": "stream",
     "text": [
      "Requirement already satisfied: pandas in c:\\programdata\\anaconda3\\lib\\site-packages (1.0.1)\n",
      "Requirement already satisfied: pytz>=2017.2 in c:\\programdata\\anaconda3\\lib\\site-packages (from pandas) (2019.3)\n",
      "Requirement already satisfied: numpy>=1.13.3 in c:\\programdata\\anaconda3\\lib\\site-packages (from pandas) (1.18.1)\n",
      "Requirement already satisfied: python-dateutil>=2.6.1 in c:\\programdata\\anaconda3\\lib\\site-packages (from pandas) (2.8.1)\n",
      "Requirement already satisfied: six>=1.5 in c:\\programdata\\anaconda3\\lib\\site-packages (from python-dateutil>=2.6.1->pandas) (1.14.0)\n",
      "Note: you may need to restart the kernel to use updated packages.\n"
     ]
    }
   ],
   "source": [
    "pip install pandas"
   ]
  },
  {
   "cell_type": "markdown",
   "metadata": {},
   "source": [
    "## Import Library"
   ]
  },
  {
   "cell_type": "code",
   "execution_count": 2,
   "metadata": {},
   "outputs": [],
   "source": [
    "import pandas as pd"
   ]
  },
  {
   "cell_type": "markdown",
   "metadata": {},
   "source": [
    "## Read in CSV file"
   ]
  },
  {
   "cell_type": "code",
   "execution_count": 3,
   "metadata": {},
   "outputs": [],
   "source": [
    "# csv file name to be read in\n",
    "in_csv = 'Home Loans.csv'\n",
    "\n",
    "# get the number of lines of the csv files to be read\n",
    "number_lines = sum(1 for row in (open(in_csv)))\n",
    "\n",
    "# size of rows of data to write to the csv, you can change the row size accourding to your need\n",
    "rowsize = 8001\n",
    "\n",
    "# start looping through data writing it to a new file for each set\n",
    "for i in range (1, number_lines, rowsize):\n",
    "    df = pd.read_csv(in_csv, header = None, nrows = rowsize, skiprows = i)\n",
    "    # nrows variable represents the number of rows to read at each loop\n",
    "    # skiprows variable represents the rows that have been read \n",
    "    \n",
    "    # csv to write data to a new file with indexed name. Splitted_Home_Loan_1.csv etc.\n",
    "    out_csv = 'Splitted_Home_Loan' + str(i) + '.csv'\n",
    "    df.to_csv(out_csv, index = False, header = False, mode = 'a', chunksize = rowsize)\n",
    "    # The mode variable represents the appending pf the data to csv file\n",
    "    # The chunksize variable represents the size of data to append for each loop"
   ]
  },
  {
   "cell_type": "code",
   "execution_count": null,
   "metadata": {},
   "outputs": [],
   "source": []
  }
 ],
 "metadata": {
  "kernelspec": {
   "display_name": "Python 3",
   "language": "python",
   "name": "python3"
  },
  "language_info": {
   "codemirror_mode": {
    "name": "ipython",
    "version": 3
   },
   "file_extension": ".py",
   "mimetype": "text/x-python",
   "name": "python",
   "nbconvert_exporter": "python",
   "pygments_lexer": "ipython3",
   "version": "3.7.6"
  }
 },
 "nbformat": 4,
 "nbformat_minor": 4
}
